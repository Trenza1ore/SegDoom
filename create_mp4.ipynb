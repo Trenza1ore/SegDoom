{
 "cells": [
  {
   "cell_type": "code",
   "execution_count": 1,
   "metadata": {},
   "outputs": [],
   "source": [
    "from typing import Callable\n",
    "\n",
    "import gc\n",
    "import os\n",
    "import glob\n",
    "import shutil\n",
    "import subprocess\n",
    "\n",
    "import numpy as np\n",
    "from PIL import Image\n",
    "from tqdm.notebook import tqdm\n",
    "from matplotlib.pyplot import cm"
   ]
  },
  {
   "cell_type": "code",
   "execution_count": 2,
   "metadata": {},
   "outputs": [],
   "source": [
    "end_padding_time = 2                # Number of seconds to repeat for the last frame\n",
    "fps = 35                            # Frame rate, 35 for Doom's default settings\n",
    "cmap = cm.jet                       # Colour map for semantic segmentation\n",
    "save_path = \"logs/media\"            # Directory to save videos\n",
    "tmp_path = f\"{save_path}/tmp\"       # Directory to save temporary images"
   ]
  },
  {
   "cell_type": "code",
   "execution_count": 3,
   "metadata": {},
   "outputs": [],
   "source": [
    "conversion_command = \"ffmpeg -framerate 35 -i %s -c:v libx264 -crf 21 -preset fast -f mp4 -pix_fmt yuv420p %s\""
   ]
  },
  {
   "cell_type": "code",
   "execution_count": 4,
   "metadata": {},
   "outputs": [],
   "source": [
    "def load_merge(path_: str, load_obs: bool=True, load_pos: bool=True, obs_transform: Callable=lambda x: x):\n",
    "    obs, pos, ep_ends, weapon = [], [], [], []\n",
    "    ep_offset = 0\n",
    "    matching_files = glob.glob(path_)\n",
    "    if len(matching_files) < 1:\n",
    "        raise FileNotFoundError(f\"No match for glob expression: {path_}\")\n",
    "    for f in tqdm(matching_files, desc=\"loading saved data\"):\n",
    "        x = np.load(f)\n",
    "        if load_obs:\n",
    "            obs.append(x[\"obs\"])\n",
    "            if \"ep_ends\" in x:\n",
    "                ep_ends.append(np.asarray(x[\"ep_ends\"], dtype=np.uint64) + ep_offset)\n",
    "                ep_offset += len(obs[-1])\n",
    "        if load_pos:\n",
    "            pos.append(obs_transform(x[\"feats\"]))\n",
    "        if \"weapon\" in x:\n",
    "            weapon.append(x[\"weapon\"])\n",
    "    return (np.concatenate(obs, axis=0) if load_obs else [], \n",
    "            np.concatenate(pos, axis=0) if load_pos else [],\n",
    "            np.concatenate(ep_ends, axis=0) if ep_ends else [],\n",
    "            np.concatenate(weapon, axis=0) if weapon else [])"
   ]
  },
  {
   "cell_type": "code",
   "execution_count": 5,
   "metadata": {},
   "outputs": [],
   "source": [
    "def render_as_mp4(obs: np.ndarray, ep_ends: np.ndarray, save_name: str, scale: int=0) -> list[subprocess.CompletedProcess]:\n",
    "    # We only know how many digits to reserve for temporary images at run time\n",
    "    tmp_n_digits = str(len(str(obs.shape[0])))\n",
    "\n",
    "    last_ep_end = 0\n",
    "    ffmpeg_jobs = []\n",
    "\n",
    "    try:\n",
    "        if os.path.exists(tmp_path):\n",
    "            shutil.rmtree(tmp_path)\n",
    "        os.makedirs(tmp_path)\n",
    "    except:\n",
    "        print(f\"Failed attempt at cleaning tmp directory, consider manual cleaning later\")\n",
    "\n",
    "    for ep_num, ep in (pbar := tqdm(enumerate(ep_ends.tolist(), 1), total=ep_ends.shape[0], \n",
    "                                    desc=\"rendering ep 1\")): #, ncols=100)):\n",
    "        frames = []\n",
    "        for i in range(last_ep_end, ep):\n",
    "            mapped = np.array(cmap(obs[i, 3, :, :])[:, :, :3] * 255, dtype=np.uint8)\n",
    "            img = np.concatenate([obs[i, :3, :, :].transpose(1, 2, 0), mapped])\n",
    "            if scale:\n",
    "                img = np.repeat(np.repeat(img, repeats=scale, axis=0), repeats=scale, axis=1)\n",
    "            frames.append(Image.fromarray(img))\n",
    "        frames += [frames[-1]] * (fps * end_padding_time).__ceil__()\n",
    "        last_ep_end = ep + 1\n",
    "        pbar.set_description(f\"saving ep {ep_num}\")\n",
    "        \n",
    "        tmp_template = f\"{tmp_path}/{ep_num}_%0{tmp_n_digits}d.png\"\n",
    "        for i, img in enumerate(frames):\n",
    "            img.save(tmp_template %i)\n",
    "        \n",
    "        pbar.set_description(f\"converting ep {ep_num}\")\n",
    "        mp4_path = f\"{save_path}/{save_name}_ep{ep_num}.mp4\"\n",
    "        if os.path.exists(mp4_path):\n",
    "            os.remove(mp4_path)\n",
    "\n",
    "        cmd = conversion_command % (tmp_template, mp4_path)\n",
    "        ffmpeg_jobs.append(subprocess.run(cmd, shell=True))\n",
    "        \n",
    "        pbar.set_description(f\"rendering ep {ep_num+1}\")\n",
    "    \n",
    "    try:\n",
    "        if os.path.exists(tmp_path):\n",
    "            shutil.rmtree(tmp_path)\n",
    "    except:\n",
    "        print(f\"Failed attempt at cleaning tmp directory, consider manual cleaning later\")\n",
    "\n",
    "    return ffmpeg_jobs"
   ]
  },
  {
   "cell_type": "code",
   "execution_count": 6,
   "metadata": {},
   "outputs": [
    {
     "data": {
      "application/vnd.jupyter.widget-view+json": {
       "model_id": "f8b6dc39ad8d4f43bfb1170a6ac397cc",
       "version_major": 2,
       "version_minor": 0
      },
      "text/plain": [
       "Loading saved data:   0%|          | 0/4 [00:00<?, ?it/s]"
      ]
     },
     "metadata": {},
     "output_type": "display_data"
    },
    {
     "data": {
      "application/vnd.jupyter.widget-view+json": {
       "model_id": "9cb24b0ec4a643409314b2f4e1ff1c74",
       "version_major": 2,
       "version_minor": 0
      },
      "text/plain": [
       "rendering ep 1:   0%|          | 0/20 [00:00<?, ?it/s]"
      ]
     },
     "metadata": {},
     "output_type": "display_data"
    },
    {
     "data": {
      "text/plain": [
       "[CompletedProcess(args='ffmpeg -framerate 35 -i logs/media/tmp/1_%05d.png -c:v libx264 -crf 21 -preset fast -f mp4 -pix_fmt yuv420p logs/media/rtss_map1_ep1.mp4', returncode=0),\n",
       " CompletedProcess(args='ffmpeg -framerate 35 -i logs/media/tmp/2_%05d.png -c:v libx264 -crf 21 -preset fast -f mp4 -pix_fmt yuv420p logs/media/rtss_map1_ep2.mp4', returncode=0),\n",
       " CompletedProcess(args='ffmpeg -framerate 35 -i logs/media/tmp/3_%05d.png -c:v libx264 -crf 21 -preset fast -f mp4 -pix_fmt yuv420p logs/media/rtss_map1_ep3.mp4', returncode=0),\n",
       " CompletedProcess(args='ffmpeg -framerate 35 -i logs/media/tmp/4_%05d.png -c:v libx264 -crf 21 -preset fast -f mp4 -pix_fmt yuv420p logs/media/rtss_map1_ep4.mp4', returncode=0),\n",
       " CompletedProcess(args='ffmpeg -framerate 35 -i logs/media/tmp/5_%05d.png -c:v libx264 -crf 21 -preset fast -f mp4 -pix_fmt yuv420p logs/media/rtss_map1_ep5.mp4', returncode=0),\n",
       " CompletedProcess(args='ffmpeg -framerate 35 -i logs/media/tmp/6_%05d.png -c:v libx264 -crf 21 -preset fast -f mp4 -pix_fmt yuv420p logs/media/rtss_map1_ep6.mp4', returncode=0),\n",
       " CompletedProcess(args='ffmpeg -framerate 35 -i logs/media/tmp/7_%05d.png -c:v libx264 -crf 21 -preset fast -f mp4 -pix_fmt yuv420p logs/media/rtss_map1_ep7.mp4', returncode=0),\n",
       " CompletedProcess(args='ffmpeg -framerate 35 -i logs/media/tmp/8_%05d.png -c:v libx264 -crf 21 -preset fast -f mp4 -pix_fmt yuv420p logs/media/rtss_map1_ep8.mp4', returncode=0),\n",
       " CompletedProcess(args='ffmpeg -framerate 35 -i logs/media/tmp/9_%05d.png -c:v libx264 -crf 21 -preset fast -f mp4 -pix_fmt yuv420p logs/media/rtss_map1_ep9.mp4', returncode=0),\n",
       " CompletedProcess(args='ffmpeg -framerate 35 -i logs/media/tmp/10_%05d.png -c:v libx264 -crf 21 -preset fast -f mp4 -pix_fmt yuv420p logs/media/rtss_map1_ep10.mp4', returncode=0),\n",
       " CompletedProcess(args='ffmpeg -framerate 35 -i logs/media/tmp/11_%05d.png -c:v libx264 -crf 21 -preset fast -f mp4 -pix_fmt yuv420p logs/media/rtss_map1_ep11.mp4', returncode=0),\n",
       " CompletedProcess(args='ffmpeg -framerate 35 -i logs/media/tmp/12_%05d.png -c:v libx264 -crf 21 -preset fast -f mp4 -pix_fmt yuv420p logs/media/rtss_map1_ep12.mp4', returncode=0),\n",
       " CompletedProcess(args='ffmpeg -framerate 35 -i logs/media/tmp/13_%05d.png -c:v libx264 -crf 21 -preset fast -f mp4 -pix_fmt yuv420p logs/media/rtss_map1_ep13.mp4', returncode=0),\n",
       " CompletedProcess(args='ffmpeg -framerate 35 -i logs/media/tmp/14_%05d.png -c:v libx264 -crf 21 -preset fast -f mp4 -pix_fmt yuv420p logs/media/rtss_map1_ep14.mp4', returncode=0),\n",
       " CompletedProcess(args='ffmpeg -framerate 35 -i logs/media/tmp/15_%05d.png -c:v libx264 -crf 21 -preset fast -f mp4 -pix_fmt yuv420p logs/media/rtss_map1_ep15.mp4', returncode=0),\n",
       " CompletedProcess(args='ffmpeg -framerate 35 -i logs/media/tmp/16_%05d.png -c:v libx264 -crf 21 -preset fast -f mp4 -pix_fmt yuv420p logs/media/rtss_map1_ep16.mp4', returncode=0),\n",
       " CompletedProcess(args='ffmpeg -framerate 35 -i logs/media/tmp/17_%05d.png -c:v libx264 -crf 21 -preset fast -f mp4 -pix_fmt yuv420p logs/media/rtss_map1_ep17.mp4', returncode=0),\n",
       " CompletedProcess(args='ffmpeg -framerate 35 -i logs/media/tmp/18_%05d.png -c:v libx264 -crf 21 -preset fast -f mp4 -pix_fmt yuv420p logs/media/rtss_map1_ep18.mp4', returncode=0),\n",
       " CompletedProcess(args='ffmpeg -framerate 35 -i logs/media/tmp/19_%05d.png -c:v libx264 -crf 21 -preset fast -f mp4 -pix_fmt yuv420p logs/media/rtss_map1_ep19.mp4', returncode=0),\n",
       " CompletedProcess(args='ffmpeg -framerate 35 -i logs/media/tmp/20_%05d.png -c:v libx264 -crf 21 -preset fast -f mp4 -pix_fmt yuv420p logs/media/rtss_map1_ep20.mp4', returncode=0)]"
      ]
     },
     "execution_count": 6,
     "metadata": {},
     "output_type": "execute_result"
    }
   ],
   "source": [
    "save_name = \"rtss_map1\"\n",
    "obs, _, ep_ends, _ = load_merge(f\"logs/{save_name}_small_ss_rgb_1e-3/record_*.npz\", load_pos=False)\n",
    "gc.collect()\n",
    "render_as_mp4(obs, ep_ends, save_name)"
   ]
  },
  {
   "cell_type": "code",
   "execution_count": 7,
   "metadata": {},
   "outputs": [
    {
     "data": {
      "application/vnd.jupyter.widget-view+json": {
       "model_id": "d28e7612b04e4b77adddf266fa1a791c",
       "version_major": 2,
       "version_minor": 0
      },
      "text/plain": [
       "loading saved data:   0%|          | 0/4 [00:00<?, ?it/s]"
      ]
     },
     "metadata": {},
     "output_type": "display_data"
    },
    {
     "data": {
      "application/vnd.jupyter.widget-view+json": {
       "model_id": "000aec22c8ae4c1c900de0269251caea",
       "version_major": 2,
       "version_minor": 0
      },
      "text/plain": [
       "rendering ep 1:   0%|          | 0/20 [00:00<?, ?it/s]"
      ]
     },
     "metadata": {},
     "output_type": "display_data"
    },
    {
     "data": {
      "text/plain": [
       "[CompletedProcess(args='ffmpeg -framerate 35 -i logs/media/tmp/1_%05d.png -c:v libx264 -crf 21 -preset fast -f mp4 -pix_fmt yuv420p logs/media/rtss_map2s_ep1.mp4', returncode=0),\n",
       " CompletedProcess(args='ffmpeg -framerate 35 -i logs/media/tmp/2_%05d.png -c:v libx264 -crf 21 -preset fast -f mp4 -pix_fmt yuv420p logs/media/rtss_map2s_ep2.mp4', returncode=0),\n",
       " CompletedProcess(args='ffmpeg -framerate 35 -i logs/media/tmp/3_%05d.png -c:v libx264 -crf 21 -preset fast -f mp4 -pix_fmt yuv420p logs/media/rtss_map2s_ep3.mp4', returncode=0),\n",
       " CompletedProcess(args='ffmpeg -framerate 35 -i logs/media/tmp/4_%05d.png -c:v libx264 -crf 21 -preset fast -f mp4 -pix_fmt yuv420p logs/media/rtss_map2s_ep4.mp4', returncode=0),\n",
       " CompletedProcess(args='ffmpeg -framerate 35 -i logs/media/tmp/5_%05d.png -c:v libx264 -crf 21 -preset fast -f mp4 -pix_fmt yuv420p logs/media/rtss_map2s_ep5.mp4', returncode=0),\n",
       " CompletedProcess(args='ffmpeg -framerate 35 -i logs/media/tmp/6_%05d.png -c:v libx264 -crf 21 -preset fast -f mp4 -pix_fmt yuv420p logs/media/rtss_map2s_ep6.mp4', returncode=0),\n",
       " CompletedProcess(args='ffmpeg -framerate 35 -i logs/media/tmp/7_%05d.png -c:v libx264 -crf 21 -preset fast -f mp4 -pix_fmt yuv420p logs/media/rtss_map2s_ep7.mp4', returncode=0),\n",
       " CompletedProcess(args='ffmpeg -framerate 35 -i logs/media/tmp/8_%05d.png -c:v libx264 -crf 21 -preset fast -f mp4 -pix_fmt yuv420p logs/media/rtss_map2s_ep8.mp4', returncode=0),\n",
       " CompletedProcess(args='ffmpeg -framerate 35 -i logs/media/tmp/9_%05d.png -c:v libx264 -crf 21 -preset fast -f mp4 -pix_fmt yuv420p logs/media/rtss_map2s_ep9.mp4', returncode=0),\n",
       " CompletedProcess(args='ffmpeg -framerate 35 -i logs/media/tmp/10_%05d.png -c:v libx264 -crf 21 -preset fast -f mp4 -pix_fmt yuv420p logs/media/rtss_map2s_ep10.mp4', returncode=0),\n",
       " CompletedProcess(args='ffmpeg -framerate 35 -i logs/media/tmp/11_%05d.png -c:v libx264 -crf 21 -preset fast -f mp4 -pix_fmt yuv420p logs/media/rtss_map2s_ep11.mp4', returncode=0),\n",
       " CompletedProcess(args='ffmpeg -framerate 35 -i logs/media/tmp/12_%05d.png -c:v libx264 -crf 21 -preset fast -f mp4 -pix_fmt yuv420p logs/media/rtss_map2s_ep12.mp4', returncode=0),\n",
       " CompletedProcess(args='ffmpeg -framerate 35 -i logs/media/tmp/13_%05d.png -c:v libx264 -crf 21 -preset fast -f mp4 -pix_fmt yuv420p logs/media/rtss_map2s_ep13.mp4', returncode=0),\n",
       " CompletedProcess(args='ffmpeg -framerate 35 -i logs/media/tmp/14_%05d.png -c:v libx264 -crf 21 -preset fast -f mp4 -pix_fmt yuv420p logs/media/rtss_map2s_ep14.mp4', returncode=0),\n",
       " CompletedProcess(args='ffmpeg -framerate 35 -i logs/media/tmp/15_%05d.png -c:v libx264 -crf 21 -preset fast -f mp4 -pix_fmt yuv420p logs/media/rtss_map2s_ep15.mp4', returncode=0),\n",
       " CompletedProcess(args='ffmpeg -framerate 35 -i logs/media/tmp/16_%05d.png -c:v libx264 -crf 21 -preset fast -f mp4 -pix_fmt yuv420p logs/media/rtss_map2s_ep16.mp4', returncode=0),\n",
       " CompletedProcess(args='ffmpeg -framerate 35 -i logs/media/tmp/17_%05d.png -c:v libx264 -crf 21 -preset fast -f mp4 -pix_fmt yuv420p logs/media/rtss_map2s_ep17.mp4', returncode=0),\n",
       " CompletedProcess(args='ffmpeg -framerate 35 -i logs/media/tmp/18_%05d.png -c:v libx264 -crf 21 -preset fast -f mp4 -pix_fmt yuv420p logs/media/rtss_map2s_ep18.mp4', returncode=0),\n",
       " CompletedProcess(args='ffmpeg -framerate 35 -i logs/media/tmp/19_%05d.png -c:v libx264 -crf 21 -preset fast -f mp4 -pix_fmt yuv420p logs/media/rtss_map2s_ep19.mp4', returncode=0),\n",
       " CompletedProcess(args='ffmpeg -framerate 35 -i logs/media/tmp/20_%05d.png -c:v libx264 -crf 21 -preset fast -f mp4 -pix_fmt yuv420p logs/media/rtss_map2s_ep20.mp4', returncode=0)]"
      ]
     },
     "execution_count": 7,
     "metadata": {},
     "output_type": "execute_result"
    }
   ],
   "source": [
    "save_name = \"rtss_map2s\"\n",
    "obs, _, ep_ends, _ = load_merge(f\"logs/{save_name}_small_ss_rgb_1e-3/record_*.npz\", load_pos=False)\n",
    "gc.collect()\n",
    "render_as_mp4(obs, ep_ends, save_name)"
   ]
  },
  {
   "cell_type": "code",
   "execution_count": 8,
   "metadata": {},
   "outputs": [
    {
     "data": {
      "application/vnd.jupyter.widget-view+json": {
       "model_id": "093a272fad4c403f9fc0a36f3d985ba7",
       "version_major": 2,
       "version_minor": 0
      },
      "text/plain": [
       "loading saved data:   0%|          | 0/4 [00:00<?, ?it/s]"
      ]
     },
     "metadata": {},
     "output_type": "display_data"
    },
    {
     "data": {
      "application/vnd.jupyter.widget-view+json": {
       "model_id": "870c974fa0574928a7eaaad9bf06f031",
       "version_major": 2,
       "version_minor": 0
      },
      "text/plain": [
       "rendering ep 1:   0%|          | 0/20 [00:00<?, ?it/s]"
      ]
     },
     "metadata": {},
     "output_type": "display_data"
    },
    {
     "data": {
      "text/plain": [
       "[CompletedProcess(args='ffmpeg -framerate 35 -i logs/media/tmp/1_%05d.png -c:v libx264 -crf 21 -preset fast -f mp4 -pix_fmt yuv420p logs/media/rtss_map3_ep1.mp4', returncode=0),\n",
       " CompletedProcess(args='ffmpeg -framerate 35 -i logs/media/tmp/2_%05d.png -c:v libx264 -crf 21 -preset fast -f mp4 -pix_fmt yuv420p logs/media/rtss_map3_ep2.mp4', returncode=0),\n",
       " CompletedProcess(args='ffmpeg -framerate 35 -i logs/media/tmp/3_%05d.png -c:v libx264 -crf 21 -preset fast -f mp4 -pix_fmt yuv420p logs/media/rtss_map3_ep3.mp4', returncode=0),\n",
       " CompletedProcess(args='ffmpeg -framerate 35 -i logs/media/tmp/4_%05d.png -c:v libx264 -crf 21 -preset fast -f mp4 -pix_fmt yuv420p logs/media/rtss_map3_ep4.mp4', returncode=0),\n",
       " CompletedProcess(args='ffmpeg -framerate 35 -i logs/media/tmp/5_%05d.png -c:v libx264 -crf 21 -preset fast -f mp4 -pix_fmt yuv420p logs/media/rtss_map3_ep5.mp4', returncode=0),\n",
       " CompletedProcess(args='ffmpeg -framerate 35 -i logs/media/tmp/6_%05d.png -c:v libx264 -crf 21 -preset fast -f mp4 -pix_fmt yuv420p logs/media/rtss_map3_ep6.mp4', returncode=0),\n",
       " CompletedProcess(args='ffmpeg -framerate 35 -i logs/media/tmp/7_%05d.png -c:v libx264 -crf 21 -preset fast -f mp4 -pix_fmt yuv420p logs/media/rtss_map3_ep7.mp4', returncode=0),\n",
       " CompletedProcess(args='ffmpeg -framerate 35 -i logs/media/tmp/8_%05d.png -c:v libx264 -crf 21 -preset fast -f mp4 -pix_fmt yuv420p logs/media/rtss_map3_ep8.mp4', returncode=0),\n",
       " CompletedProcess(args='ffmpeg -framerate 35 -i logs/media/tmp/9_%05d.png -c:v libx264 -crf 21 -preset fast -f mp4 -pix_fmt yuv420p logs/media/rtss_map3_ep9.mp4', returncode=0),\n",
       " CompletedProcess(args='ffmpeg -framerate 35 -i logs/media/tmp/10_%05d.png -c:v libx264 -crf 21 -preset fast -f mp4 -pix_fmt yuv420p logs/media/rtss_map3_ep10.mp4', returncode=0),\n",
       " CompletedProcess(args='ffmpeg -framerate 35 -i logs/media/tmp/11_%05d.png -c:v libx264 -crf 21 -preset fast -f mp4 -pix_fmt yuv420p logs/media/rtss_map3_ep11.mp4', returncode=0),\n",
       " CompletedProcess(args='ffmpeg -framerate 35 -i logs/media/tmp/12_%05d.png -c:v libx264 -crf 21 -preset fast -f mp4 -pix_fmt yuv420p logs/media/rtss_map3_ep12.mp4', returncode=0),\n",
       " CompletedProcess(args='ffmpeg -framerate 35 -i logs/media/tmp/13_%05d.png -c:v libx264 -crf 21 -preset fast -f mp4 -pix_fmt yuv420p logs/media/rtss_map3_ep13.mp4', returncode=0),\n",
       " CompletedProcess(args='ffmpeg -framerate 35 -i logs/media/tmp/14_%05d.png -c:v libx264 -crf 21 -preset fast -f mp4 -pix_fmt yuv420p logs/media/rtss_map3_ep14.mp4', returncode=0),\n",
       " CompletedProcess(args='ffmpeg -framerate 35 -i logs/media/tmp/15_%05d.png -c:v libx264 -crf 21 -preset fast -f mp4 -pix_fmt yuv420p logs/media/rtss_map3_ep15.mp4', returncode=0),\n",
       " CompletedProcess(args='ffmpeg -framerate 35 -i logs/media/tmp/16_%05d.png -c:v libx264 -crf 21 -preset fast -f mp4 -pix_fmt yuv420p logs/media/rtss_map3_ep16.mp4', returncode=0),\n",
       " CompletedProcess(args='ffmpeg -framerate 35 -i logs/media/tmp/17_%05d.png -c:v libx264 -crf 21 -preset fast -f mp4 -pix_fmt yuv420p logs/media/rtss_map3_ep17.mp4', returncode=0),\n",
       " CompletedProcess(args='ffmpeg -framerate 35 -i logs/media/tmp/18_%05d.png -c:v libx264 -crf 21 -preset fast -f mp4 -pix_fmt yuv420p logs/media/rtss_map3_ep18.mp4', returncode=0),\n",
       " CompletedProcess(args='ffmpeg -framerate 35 -i logs/media/tmp/19_%05d.png -c:v libx264 -crf 21 -preset fast -f mp4 -pix_fmt yuv420p logs/media/rtss_map3_ep19.mp4', returncode=0),\n",
       " CompletedProcess(args='ffmpeg -framerate 35 -i logs/media/tmp/20_%05d.png -c:v libx264 -crf 21 -preset fast -f mp4 -pix_fmt yuv420p logs/media/rtss_map3_ep20.mp4', returncode=0)]"
      ]
     },
     "execution_count": 8,
     "metadata": {},
     "output_type": "execute_result"
    }
   ],
   "source": [
    "save_name = \"rtss_map3\"\n",
    "obs, _, ep_ends, _ = load_merge(f\"logs/{save_name}_small_ss_rgb_1e-3/record_*.npz\", load_pos=False)\n",
    "gc.collect()\n",
    "render_as_mp4(obs, ep_ends, save_name)"
   ]
  }
 ],
 "metadata": {
  "kernelspec": {
   "display_name": "base",
   "language": "python",
   "name": "python3"
  },
  "language_info": {
   "codemirror_mode": {
    "name": "ipython",
    "version": 3
   },
   "file_extension": ".py",
   "mimetype": "text/x-python",
   "name": "python",
   "nbconvert_exporter": "python",
   "pygments_lexer": "ipython3",
   "version": "3.11.8"
  }
 },
 "nbformat": 4,
 "nbformat_minor": 2
}
