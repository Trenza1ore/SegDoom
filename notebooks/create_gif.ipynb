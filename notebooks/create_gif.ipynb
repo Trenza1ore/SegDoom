{
 "cells": [
  {
   "cell_type": "code",
   "execution_count": 1,
   "metadata": {},
   "outputs": [],
   "source": [
    "from typing import Callable\n",
    "\n",
    "import gc\n",
    "import os\n",
    "import glob\n",
    "import shutil\n",
    "import subprocess\n",
    "\n",
    "import numpy as np\n",
    "from PIL import Image\n",
    "from tqdm.notebook import tqdm\n",
    "from matplotlib.pyplot import cm"
   ]
  },
  {
   "cell_type": "code",
   "execution_count": 2,
   "metadata": {},
   "outputs": [],
   "source": [
    "end_padding_time = 2                # Number of seconds to repeat for the last frame\n",
    "fps = 35                            # Frame rate, 35 for Doom's default settings\n",
    "cmap = cm.jet                       # Colour map for semantic segmentation\n",
    "save_path = \"logs/media\"            # Directory to save videos\n",
    "tmp_path = f\"{save_path}/tmp\"       # Directory to save temporary images"
   ]
  },
  {
   "cell_type": "code",
   "execution_count": 3,
   "metadata": {},
   "outputs": [],
   "source": [
    "def load_merge(path_: str, load_obs: bool=True, load_pos: bool=True, obs_transform: Callable=lambda x: x):\n",
    "    obs, pos, ep_ends, weapon = [], [], [], []\n",
    "    ep_offset = 0\n",
    "    matching_files = glob.glob(path_)\n",
    "    if len(matching_files) < 1:\n",
    "        raise FileNotFoundError(f\"No match for glob expression: {path_}\")\n",
    "    for f in tqdm(matching_files, desc=\"loading saved data\"):\n",
    "        x = np.load(f)\n",
    "        if load_obs:\n",
    "            obs.append(x[\"obs\"])\n",
    "            if \"ep_ends\" in x:\n",
    "                ep_ends.append(np.asarray(x[\"ep_ends\"], dtype=np.uint64) + ep_offset)\n",
    "                ep_offset += len(obs[-1])\n",
    "        if load_pos:\n",
    "            pos.append(obs_transform(x[\"feats\"]))\n",
    "        if \"weapon\" in x:\n",
    "            weapon.append(x[\"weapon\"])\n",
    "    return (np.concatenate(obs, axis=0) if load_obs else [], \n",
    "            np.concatenate(pos, axis=0) if load_pos else [],\n",
    "            np.concatenate(ep_ends, axis=0) if ep_ends else [],\n",
    "            np.concatenate(weapon, axis=0) if weapon else [])"
   ]
  },
  {
   "cell_type": "code",
   "execution_count": 4,
   "metadata": {},
   "outputs": [],
   "source": [
    "def render_as_gif(obs: np.ndarray, ep_ends: np.ndarray, save_name: str, scale: int=0, ep_num_: int=None, format: str=None) -> list[Image.Image]:\n",
    "    last_ep_end = 0\n",
    "\n",
    "    for ep_num, ep in (pbar := tqdm(enumerate(ep_ends.tolist(), 1), total=ep_ends.shape[0], \n",
    "                                    desc=\"rendering ep 1\")): #, ncols=100)):\n",
    "        if ep_num_ is None or ep_num == ep_num_:\n",
    "            frames = []\n",
    "            for i in range(last_ep_end, ep):\n",
    "                mapped = np.array(cmap(obs[i, 3, :, :])[:, :, :3] * 255, dtype=np.uint8)\n",
    "                if format is None:\n",
    "                    img = np.concatenate([obs[i, :3, :, :].transpose(1, 2, 0), mapped])\n",
    "                elif format == \"rgb\":\n",
    "                    img = obs[i, :3, :, :].transpose(1, 2, 0)\n",
    "                elif format == \"ss\":\n",
    "                    img = mapped\n",
    "                if scale:\n",
    "                    img = np.repeat(np.repeat(img, repeats=scale, axis=0), repeats=scale, axis=1)\n",
    "                frames.append(Image.fromarray(img))\n",
    "            frames += [frames[-1]] * (fps * end_padding_time).__ceil__()\n",
    "            pbar.set_description(f\"saving ep {ep_num}\")\n",
    "\n",
    "            gif: Image.Image = frames[0]\n",
    "            gif.save(f\"{save_path}/{save_name}_ep{ep_num}{'_' + format if format else ''}.gif\", save_all=True, append_images=frames[1:], optimize=True, duration=1000/30, loop=0)\n",
    "        last_ep_end = ep + 1\n",
    "\n",
    "    return frames"
   ]
  },
  {
   "cell_type": "code",
   "execution_count": 5,
   "metadata": {},
   "outputs": [
    {
     "data": {
      "application/vnd.jupyter.widget-view+json": {
       "model_id": "537f5592aeae471f8778f36f89d55c44",
       "version_major": 2,
       "version_minor": 0
      },
      "text/plain": [
       "loading saved data:   0%|          | 0/1 [00:00<?, ?it/s]"
      ]
     },
     "metadata": {},
     "output_type": "display_data"
    },
    {
     "data": {
      "text/plain": [
       "82"
      ]
     },
     "execution_count": 5,
     "metadata": {},
     "output_type": "execute_result"
    }
   ],
   "source": [
    "save_name = \"rtss_map1\"\n",
    "obs, _, ep_ends, _ = load_merge(f\"logs/back3/{save_name}_small_ss_rgb_1e-3/record_0.npz\", load_pos=False)\n",
    "gc.collect()"
   ]
  },
  {
   "cell_type": "code",
   "execution_count": 6,
   "metadata": {},
   "outputs": [],
   "source": [
    "# render_as_gif(obs, ep_ends, save_name, ep_num_=5, format='rgb');"
   ]
  },
  {
   "cell_type": "code",
   "execution_count": 7,
   "metadata": {},
   "outputs": [
    {
     "data": {
      "application/vnd.jupyter.widget-view+json": {
       "model_id": "bd53ef78dbb847c29ed978e632060f7a",
       "version_major": 2,
       "version_minor": 0
      },
      "text/plain": [
       "rendering ep 1:   0%|          | 0/5 [00:00<?, ?it/s]"
      ]
     },
     "metadata": {},
     "output_type": "display_data"
    }
   ],
   "source": [
    "render_as_gif(obs, ep_ends, save_name, ep_num_=5, format='ss');"
   ]
  }
 ],
 "metadata": {
  "kernelspec": {
   "display_name": "base",
   "language": "python",
   "name": "python3"
  },
  "language_info": {
   "codemirror_mode": {
    "name": "ipython",
    "version": 3
   },
   "file_extension": ".py",
   "mimetype": "text/x-python",
   "name": "python",
   "nbconvert_exporter": "python",
   "pygments_lexer": "ipython3",
   "version": "3.11.8"
  }
 },
 "nbformat": 4,
 "nbformat_minor": 2
}
