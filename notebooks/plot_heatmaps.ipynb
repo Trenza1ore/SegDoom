{
 "cells": [
  {
   "cell_type": "code",
   "execution_count": 1,
   "metadata": {},
   "outputs": [],
   "source": [
    "import os\n",
    "import pickle\n",
    "\n",
    "import numpy as np\n",
    "import matplotlib.pyplot as plt"
   ]
  },
  {
   "cell_type": "code",
   "execution_count": 2,
   "metadata": {},
   "outputs": [],
   "source": [
    "def remove_outliers(arr: np.ndarray) -> np.ndarray:\n",
    "    Q1 = np.percentile(arr, 25)\n",
    "    Q3 = np.percentile(arr, 75)\n",
    "    IQR_scaled = 1.5 * (Q3 - Q1)\n",
    "    l_fence = Q1 - IQR_scaled\n",
    "    u_fence = Q3 + IQR_scaled\n",
    "    return np.clip(arr, l_fence, u_fence)"
   ]
  },
  {
   "cell_type": "code",
   "execution_count": 3,
   "metadata": {},
   "outputs": [],
   "source": [
    "with open(\"heatmaps.pkl\", \"rb\") as f:\n",
    "    all_results = pickle.load(f)\n",
    "\n",
    "with open(\"mapdefs.pkl\", \"rb\") as f:\n",
    "    map_defs = pickle.load(f)\n",
    "\n",
    "hmap_res = 10"
   ]
  },
  {
   "cell_type": "code",
   "execution_count": 4,
   "metadata": {},
   "outputs": [],
   "source": [
    "things_marker_def = {\n",
    "    \"ammo\"          : \"s\",\n",
    "    \"weapon\"        : \"X\",\n",
    "    \"medkit\"        : \"P\",\n",
    "    \"spawn point\"   : \"o\",\n",
    "    \"player\"        : \"v\"\n",
    "}\n",
    "\n",
    "things_colour_def = {\n",
    "    \"ammo\"          : \"cyan\",\n",
    "    \"weapon\"        : \"yellow\",\n",
    "    \"medkit\"        : \"orange\",\n",
    "    \"spawn point\"   : \"white\",\n",
    "    \"player\"        : \"k\"\n",
    "}"
   ]
  },
  {
   "cell_type": "code",
   "execution_count": 5,
   "metadata": {},
   "outputs": [],
   "source": [
    "plt.rcParams[\"font.family\"] = \"monospace\"\n",
    "\n",
    "def display_hmap(hmap_offset: tuple[np.ndarray, np.ndarray], name: str, use_alpha: bool=False, \n",
    "                 cmap: str=\"hot\", interpolation: str=\"antialiased\", base_value: float=0.02, eps=0.0,\n",
    "                 amplify: bool=False):\n",
    "    hmap_, offset = hmap_offset\n",
    "    if amplify:\n",
    "        hmap_ = remove_outliers(hmap_)\n",
    "        hmap_ /= hmap_.max()\n",
    "        hmap_ *= (1 - base_value)\n",
    "        hmap_[hmap_ > eps] += base_value\n",
    "        name += \" (amplified)\"\n",
    "    else:\n",
    "        hmap_ /= hmap_.max()\n",
    "        hmap_ *= (1 - base_value)\n",
    "        hmap_[hmap_ > eps] += base_value\n",
    "    xmin, xmax, ymin, ymax = -offset[0], hmap_.shape[0] - offset[0], -offset[1], hmap_.shape[1] - offset[1]\n",
    "    ax = plt.imshow(np.flip(hmap_.T, axis=0), cmap=cmap, interpolation=interpolation,\n",
    "                    alpha=(hmap_ > 0).astype(np.float64) if use_alpha else None,\n",
    "                    extent=(xmin, xmax, ymin, ymax))\n",
    "    ax.set_clim(0, 1)\n",
    "    plt.xlim(xmin - hmap_res, xmax + hmap_res)\n",
    "    plt.ylim(ymin - hmap_res, ymax + hmap_res)\n",
    "    plt.colorbar(ax)\n",
    "    plt.title(f\"   {name:42s}\")\n",
    "    return ax\n",
    "\n",
    "def draw_items(map_id: str=\"map1\"):\n",
    "    map_type = int(map_id.replace(\"rtss_\", '')[3])\n",
    "    things_dict, edges = map_defs[map_type]\n",
    "    for ex, ey in edges:\n",
    "        plt.plot(ex, ey, color='white')\n",
    "    for k, v in things_dict.items():\n",
    "        if k == \"player\" or len(v) == 0:\n",
    "            continue\n",
    "        plt.scatter(v[0, :], v[1, :], s=60, marker=things_marker_def[k], c=things_colour_def[k], label=k, edgecolors=\"k\")\n",
    "    if map_type == 3:\n",
    "        plt.ylim(-500, 1000)\n",
    "        plt.xlim(-870, 870)\n",
    "        plt.legend(bbox_to_anchor=(0, 1.015))\n",
    "    else:\n",
    "        plt.legend(bbox_to_anchor=(0, 1.015))\n",
    "    if map_type == 1:\n",
    "        plt.figtext(-0.055, 0.59, \"Note that the position\\nof items only roughly\\nindicates their actual\\nplacement in game.\", fontsize=8, bbox={\"facecolor\":\"white\", \"alpha\":0.95, \"edgecolor\":\"gray\"})\n",
    "    elif map_type == 2:\n",
    "        plt.figtext(-0.055, 0.63, \"Note that the position\\nof items only roughly\\nindicates their actual\\nplacement in game.\", fontsize=8, bbox={\"facecolor\":\"white\", \"alpha\":0.95, \"edgecolor\":\"gray\"})\n",
    "    elif map_type == 3:\n",
    "        plt.figtext(-0.097, 0.56, \"Note that the position\\nof items only roughly\\nindicates their actual\\nplacement in game.\", fontsize=8, bbox={\"facecolor\":\"white\", \"alpha\":0.95, \"edgecolor\":\"gray\"})"
   ]
  },
  {
   "cell_type": "code",
   "execution_count": 6,
   "metadata": {},
   "outputs": [],
   "source": [
    "Names = {\n",
    "    \"bot\"               : \" Best ZCajun Bot (built-in)\",\n",
    "    \"r1_r_sl_ss_5e-4\"   : \"RPPO(1,   SS)\",\n",
    "    \"r1_r_Dsl_ss_5e-4\"  : \"RPPO(1,   SS, double damage reward)\",\n",
    "    # \"s4_ss_5e-4\"        : \" PPO(4,   SS)\",\n",
    "    \"ss_1e-3\"           : \" PPO(1,   SS)\",\n",
    "    \"s4_ss_1e-3\"        : \" PPO(4,   SS)\",\n",
    "    # \"s4_ss_5e-4\"        : \" PPO(4,   SS, halved lr)\",\n",
    "    \"rgb_9e-4\"          : \" PPO(1, RGB)\",\n",
    "    \"rgb_9e-4_a\"        : \" PPO(1, RGB, wall & floor altered)\",\n",
    "    \"rgb_9e-4_w\"        : \" PPO(1, RGB, wall texture altered)\",\n",
    "    \"ss_rgb_1e-3_best\"  : \" PPO(1, RGB+  SS)\",\n",
    "    \"ss_rgb_1e-3_besta\" : \" PPO(1, RGB+  SS, wall & floor altered)\",\n",
    "    \"ss_rgb_1e-3_bestw\" : \" PPO(1, RGB+  SS, wall texture altered)\",\n",
    "}"
   ]
  },
  {
   "cell_type": "code",
   "execution_count": 7,
   "metadata": {},
   "outputs": [],
   "source": [
    "if not os.path.exists(\"heatmaps\"):\n",
    "    os.makedirs(\"heatmaps\")"
   ]
  },
  {
   "cell_type": "code",
   "execution_count": null,
   "metadata": {},
   "outputs": [],
   "source": [
    "for map_id, map_dict in all_results.items():\n",
    "    for model_name, model_dict in map_dict.items():\n",
    "        model_name = Names[model_name]\n",
    "        if \"rtss\" in map_id:\n",
    "            model_name = model_name.replace(\"  SS\", \"RTSS\")\n",
    "        title = f\"{map_id.replace('rtss_', '').rstrip('s').upper()}({model_name})\"\n",
    "        plt.clf()\n",
    "        display_hmap(model_dict['hmap'], title, cmap=\"hot\", base_value=0.01)\n",
    "        draw_items(map_id)\n",
    "        plt.savefig(f\"heatmaps/{title}.png\", bbox_inches='tight')"
   ]
  }
 ],
 "metadata": {
  "kernelspec": {
   "display_name": "base",
   "language": "python",
   "name": "python3"
  },
  "language_info": {
   "codemirror_mode": {
    "name": "ipython",
    "version": 3
   },
   "file_extension": ".py",
   "mimetype": "text/x-python",
   "name": "python",
   "nbconvert_exporter": "python",
   "pygments_lexer": "ipython3",
   "version": "3.11.8"
  }
 },
 "nbformat": 4,
 "nbformat_minor": 2
}
