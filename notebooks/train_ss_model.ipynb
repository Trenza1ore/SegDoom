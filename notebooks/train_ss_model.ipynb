{
 "cells": [
  {
   "cell_type": "code",
   "execution_count": null,
   "metadata": {},
   "outputs": [],
   "source": [
    "import gc\n",
    "from time import time, sleep\n",
    "\n",
    "import numpy as np\n",
    "import matplotlib.pyplot as plt\n",
    "from tqdm.notebook import tqdm\n",
    "\n",
    "import torch\n",
    "import torch.nn as nn\n",
    "import torch.optim as optim\n",
    "from torch.utils.data import DataLoader, random_split\n",
    "import torchvision.models.segmentation as models\n",
    "\n",
    "from semantic_segmentation.dataset import CustomDataset, ToTensorNormalize\n",
    "from stats import discord_bot"
   ]
  },
  {
   "cell_type": "code",
   "execution_count": 2,
   "metadata": {},
   "outputs": [],
   "source": [
    "from models.ss import calculate_miou"
   ]
  },
  {
   "cell_type": "code",
   "execution_count": 3,
   "metadata": {},
   "outputs": [],
   "source": [
    "data = torch.load(\"./models/SSDataset.pt\")"
   ]
  },
  {
   "cell_type": "code",
   "execution_count": 4,
   "metadata": {},
   "outputs": [
    {
     "data": {
      "text/plain": [
       "device(type='cuda')"
      ]
     },
     "execution_count": 4,
     "metadata": {},
     "output_type": "execute_result"
    }
   ],
   "source": [
    "tqdm_miniters = 5\n",
    "torch.manual_seed(2050808)\n",
    "num_epochs = 20\n",
    "num_steps_end_decay = 69773\n",
    "batch_size = 32\n",
    "lr_start = 1e-4\n",
    "lr_gamma = 0.999967\n",
    "model = models.deeplabv3_resnet101(weights=models.DeepLabV3_ResNet101_Weights.DEFAULT)\n",
    "(device := torch.device(\"cuda\" if torch.cuda.is_available() else \"cpu\"))"
   ]
  },
  {
   "cell_type": "code",
   "execution_count": 5,
   "metadata": {},
   "outputs": [],
   "source": [
    "webhook = discord_bot(extra=f\"DeepLabV3-ResNet101(lr={lr_start}; {lr_gamma}; {num_steps_end_decay})\")"
   ]
  },
  {
   "cell_type": "code",
   "execution_count": 6,
   "metadata": {},
   "outputs": [],
   "source": [
    "# Create dataset and data loader\n",
    "dataset = CustomDataset(data=data, transform=ToTensorNormalize(device=device))\n",
    "train_size = int(0.9 * len(dataset))\n",
    "test_size = len(dataset) - train_size\n",
    "train_dataset, test_dataset = random_split(dataset, [train_size, test_size])\n",
    "\n",
    "train_loader = DataLoader(train_dataset, batch_size=batch_size, shuffle=True, num_workers=0)\n",
    "test_loader = DataLoader(test_dataset, batch_size=batch_size, shuffle=False, num_workers=0)"
   ]
  },
  {
   "cell_type": "code",
   "execution_count": 7,
   "metadata": {},
   "outputs": [],
   "source": [
    "eval_frequency = len(train_loader) // 5"
   ]
  },
  {
   "cell_type": "code",
   "execution_count": 9,
   "metadata": {},
   "outputs": [
    {
     "data": {
      "text/plain": [
       "32"
      ]
     },
     "execution_count": 9,
     "metadata": {},
     "output_type": "execute_result"
    }
   ],
   "source": [
    "prev = model.classifier[-1]\n",
    "model.classifier[-1] = nn.Conv2d(prev.in_channels, 13, kernel_size=prev.kernel_size, stride=prev.stride)\n",
    "del prev\n",
    "gc.collect()"
   ]
  },
  {
   "cell_type": "code",
   "execution_count": 10,
   "metadata": {},
   "outputs": [
    {
     "name": "stderr",
     "output_type": "stream",
     "text": [
      "c:\\Users\\10022\\anaconda3\\envs\\doom\\Lib\\site-packages\\torch\\jit\\_recursive.py:313: UserWarning: 'aux_classifier' was found in ScriptModule constants,  but it is a non-constant submodule. Consider removing it.\n",
      "  warnings.warn(\n"
     ]
    }
   ],
   "source": [
    "model = torch.jit.script(model.to(device))\n",
    "criterion = nn.CrossEntropyLoss()\n",
    "optimizer = optim.Adam(model.parameters(), lr=lr_start)\n",
    "optimizer.param_groups[0][\"initial_lr\"] = lr_start\n",
    "# scheduler = optim.lr_scheduler.LinearLR(optimizer, start_factor=1e-4, end_factor=1e-5, total_iters=num_steps_end_decay)\n",
    "scheduler = optim.lr_scheduler.ExponentialLR(optimizer, gamma=lr_gamma, last_epoch=num_steps_end_decay)"
   ]
  },
  {
   "cell_type": "code",
   "execution_count": null,
   "metadata": {},
   "outputs": [],
   "source": [
    "miou = []\n",
    "batch_loss = []\n",
    "timestep = []\n",
    "epoch_loss = []\n",
    "\n",
    "train_start_time = time()\n",
    "for epoch in range(num_epochs):\n",
    "    pbar = tqdm(total=len(train_loader), desc=f\"Epoch {epoch}\", miniters=tqdm_miniters)\n",
    "    model.train()\n",
    "    running_loss = 0.0\n",
    "    batch_count = 0\n",
    "\n",
    "    for images, masks in train_loader:\n",
    "        optimizer.zero_grad()\n",
    "\n",
    "        outputs = model(images)['out']\n",
    "        loss = criterion(outputs, masks)\n",
    "\n",
    "        loss.backward()\n",
    "        optimizer.step()\n",
    "        scheduler.step()\n",
    "\n",
    "        running_loss += loss.item() * images.size(0)\n",
    "        batch_count += 1\n",
    "        pbar.update()\n",
    "\n",
    "        if batch_count % eval_frequency == 0:\n",
    "            model.eval()\n",
    "            iou_scores = []\n",
    "            t = time()\n",
    "            \n",
    "            with torch.no_grad():\n",
    "                for test_images, test_masks in tqdm(test_loader, desc=\"Eval\", leave=False, miniters=int(tqdm_miniters*2.5)):\n",
    "                    test_outputs = model(test_images)['out']\n",
    "                    iou = calculate_miou(test_outputs, test_masks, num_classes=13)\n",
    "                    iou_scores.append(iou)\n",
    "\n",
    "            mean_iou = np.mean(iou_scores)\n",
    "            curr_time = time()\n",
    "            eval_time = round(curr_time - t)\n",
    "            t_loss = running_loss / (batch_count * batch_size)\n",
    "\n",
    "            batch_loss.append(t_loss)\n",
    "            miou.append(mean_iou)\n",
    "            timestep.append([epoch, batch_count, round(curr_time - train_start_time)])\n",
    "\n",
    "            msg = f\"Epoch {epoch+1}, Batch {batch_count}, Mean IoU: {mean_iou:.4f}, Training Loss: {t_loss:.4f}\\nLR: {scheduler.get_last_lr()[0]:.7f}, Eval time: {eval_time // 60:2d} min {eval_time % 60:2d} sec\"\n",
    "            webhook.send_msg(msg)\n",
    "            print(msg, flush=True)\n",
    "            \n",
    "            model.train()\n",
    "            \n",
    "    pbar.close()\n",
    "    plt.clf()\n",
    "    plt.plot(miou)\n",
    "    plt.title(\"Mean IoU\")\n",
    "    # plt.ylim(0, 1)\n",
    "    plt.savefig(f\"{webhook.path}/current.png\")\n",
    "    plt.show()\n",
    "    webhook.send_img(epoch)\n",
    "    current_state = {\n",
    "        \"optimizer\" : optimizer.state_dict(),\n",
    "        \"scheduler\" : scheduler.state_dict(),\n",
    "        \"model\"     : model.state_dict()\n",
    "    }\n",
    "    torch.save(current_state, f\"semantic_segmentation/ss_mobilenet_{epoch:02d}.pt\")\n",
    "    np.savez(\"semantic_segmentation/SS_Results.npz\", \n",
    "             miou=np.array(miou), \n",
    "             batch_loss=np.array(batch_loss), \n",
    "             epoch_loss=np.array(epoch_loss), \n",
    "             timestep=np.array(timestep, dtype=np.uint64))\n",
    "    e_loss = running_loss / train_size\n",
    "    epoch_loss.append([e_loss, running_loss])\n",
    "    train_time = round(time() - train_start_time)\n",
    "    hr = train_time // 3600\n",
    "    train_time %= 3600\n",
    "    msg = f\"Epoch {epoch+1}/{num_epochs}, Training Loss: {e_loss:.4f}, Training Time: {hr:3d} hr {train_time // 60:2d} min {train_time % 60:2d} sec\"\n",
    "    webhook.send_msg(msg)\n",
    "    print(msg, flush=True)\n",
    "    sleep(10)\n",
    "\n",
    "print('Training complete.')"
   ]
  }
 ],
 "metadata": {
  "kernelspec": {
   "display_name": "doom",
   "language": "python",
   "name": "python3"
  },
  "language_info": {
   "codemirror_mode": {
    "name": "ipython",
    "version": 3
   },
   "file_extension": ".py",
   "mimetype": "text/x-python",
   "name": "python",
   "nbconvert_exporter": "python",
   "pygments_lexer": "ipython3",
   "version": "3.12.3"
  }
 },
 "nbformat": 4,
 "nbformat_minor": 2
}
