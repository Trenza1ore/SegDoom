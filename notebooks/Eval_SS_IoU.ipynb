{
 "cells": [
  {
   "cell_type": "code",
   "execution_count": 1,
   "metadata": {},
   "outputs": [],
   "source": [
    "import numpy as np\n",
    "\n",
    "from vizdoom_utils.labels import DEFAULT_LABELS_DEF\n",
    "from parse_data.helper_func import load_merged_records"
   ]
  },
  {
   "cell_type": "code",
   "execution_count": 2,
   "metadata": {},
   "outputs": [
    {
     "name": "stdout",
     "output_type": "stream",
     "text": [
      "                 MIoU Floor/Ceil       Wall    ItemFog TeleportF. BulletPuff      Blood       Clip   ShellBox    Shotgun    Medikit DeadDoomP. DoomPlayer       Self\n",
      "map1  IoU:       0.85       0.99       0.98       0.66       0.70       0.33       0.38       0.29       0.67       0.55       0.68       0.80       0.75       0.96\n",
      "map1w IoU:       0.78       0.98       0.94       0.62       0.53       0.16       0.39       0.27       0.71       0.56       0.65       0.77       0.62       0.95\n",
      "map1a IoU:       0.72       0.98       0.94       0.63       0.34       0.08       0.37       0.24       0.67       0.54       0.61       0.78       0.61       0.95\n",
      "map2s IoU:       0.69       0.98       0.97       0.56       0.51       0.11       0.24       0.00       0.44       0.16       0.42       0.72       0.67       0.97\n",
      "map3  IoU:       0.68       0.98       0.91       0.51       0.29       0.03       0.32       0.12       0.00       0.26       0.58       0.55       0.66       0.95\n"
     ]
    }
   ],
   "source": [
    "print(' ' * 11 + f'{\"MIoU\":>10s} ' + ' '.join(f\"{i:>10s}\" if len(i) <= 10 else f\"{i[:9]:s}.\" for i in DEFAULT_LABELS_DEF))\n",
    "for map_name in [\"map1\", \"map1w\", \"map1a\", \"map2s\", \"map3\"]:\n",
    "    miou, iou = load_merged_records(f\"captures/rtss_{map_name}/ppo_ss_rgb_1e-3_best/record_*.npz\", load_obs=False, no_tqdm=True)[5:7]\n",
    "    iou_formatted = ' '.join([f\"{i:10.2f}\" for i in np.nanmean(iou, axis=0)])\n",
    "    print(f\"{map_name:5s} IoU: {np.nanmean(miou):10.2f} {iou_formatted}\")"
   ]
  },
  {
   "cell_type": "code",
   "execution_count": 3,
   "metadata": {},
   "outputs": [
    {
     "name": "stdout",
     "output_type": "stream",
     "text": [
      "                 MIoU Floor/Ceil       Wall    Effects      Ammos    Shotgun    Medikit DeadDoomP. DoomPlayer       Self\n",
      "map1  IoU:       0.85       0.99       0.98       0.52       0.48       0.55       0.68       0.80       0.75       0.96\n",
      "map1w IoU:       0.78       0.98       0.94       0.42       0.49       0.56       0.65       0.77       0.62       0.95\n",
      "map1a IoU:       0.72       0.98       0.94       0.36       0.46       0.54       0.61       0.78       0.61       0.95\n",
      "map2s IoU:       0.69       0.98       0.97       0.35       0.22       0.16       0.42       0.72       0.67       0.97\n",
      "map3  IoU:       0.68       0.98       0.91       0.29       0.06       0.26       0.58       0.55       0.66       0.95\n"
     ]
    }
   ],
   "source": [
    "summarized_labels_def = list(DEFAULT_LABELS_DEF)[:2] + [\"Effects\", \"Ammos\"] + list(DEFAULT_LABELS_DEF)[8:]\n",
    "print(' ' * 11 + f'{\"MIoU\":>10s} ' + ' '.join(f\"{i:>10s}\" if len(i) <= 10 else f\"{i[:9]:s}.\" for i in summarized_labels_def))\n",
    "for map_name in [\"map1\", \"map1w\", \"map1a\", \"map2s\", \"map3\"]:\n",
    "    miou, iou = load_merged_records(f\"captures/rtss_{map_name}/ppo_ss_rgb_1e-3_best/record_*.npz\", load_obs=False, no_tqdm=True)[5:7]\n",
    "    iou = np.nanmean(iou, axis=0).tolist()\n",
    "    iou = iou[:2] + [np.nanmean(iou[2:6]), np.nanmean(iou[6:8])] + iou[8:]\n",
    "    iou_formatted = ' '.join([f\"{i:10.2f}\" for i in iou])\n",
    "    print(f\"{map_name:5s} IoU: {np.nanmean(miou):10.2f} {iou_formatted}\")"
   ]
  }
 ],
 "metadata": {
  "kernelspec": {
   "display_name": "base",
   "language": "python",
   "name": "python3"
  },
  "language_info": {
   "codemirror_mode": {
    "name": "ipython",
    "version": 3
   },
   "file_extension": ".py",
   "mimetype": "text/x-python",
   "name": "python",
   "nbconvert_exporter": "python",
   "pygments_lexer": "ipython3",
   "version": "3.12.3"
  }
 },
 "nbformat": 4,
 "nbformat_minor": 2
}
