{
 "cells": [
  {
   "cell_type": "code",
   "execution_count": 1,
   "metadata": {},
   "outputs": [],
   "source": [
    "import numpy as np\n",
    "\n",
    "from vizdoom_utils.labels import DEFAULT_LABELS_DEF\n",
    "from parse_data.helper_func import load_merged_records"
   ]
  },
  {
   "cell_type": "code",
   "execution_count": 2,
   "metadata": {},
   "outputs": [
    {
     "name": "stdout",
     "output_type": "stream",
     "text": [
      "                 MIoU Floor/Ceil       Wall    ItemFog TeleportF. BulletPuff      Blood       Clip   ShellBox    Shotgun    Medikit DeadDoomP. DoomPlayer       Self\n",
      "map1  IoU:      0.846      0.994      0.979      0.657      0.703      0.326      0.380      0.294      0.667      0.552      0.676      0.803      0.753      0.957\n",
      "map1w IoU:      0.777      0.983      0.944      0.622      0.526      0.155      0.388      0.274      0.706      0.560      0.654      0.770      0.622      0.955\n",
      "map1a IoU:      0.717      0.982      0.945      0.635      0.341      0.085      0.370      0.241      0.673      0.536      0.612      0.779      0.607      0.954\n",
      "map2s IoU:      0.693      0.982      0.970      0.558      0.509      0.112      0.236      0.000      0.445      0.160      0.416      0.720      0.666      0.967\n",
      "map3  IoU:      0.683      0.981      0.908      0.510      0.290      0.032      0.320      0.117      0.000      0.260      0.583      0.550      0.662      0.952\n"
     ]
    }
   ],
   "source": [
    "print(' ' * 11 + f'{\"MIoU\":>10s} ' + ' '.join(f\"{i:>10s}\" if len(i) <= 10 else f\"{i[:9]:s}.\" for i in DEFAULT_LABELS_DEF))\n",
    "for map_name in [\"map1\", \"map1w\", \"map1a\", \"map2s\", \"map3\"]:\n",
    "    miou, iou = load_merged_records(f\"captures/rtss_{map_name}/ppo_ss_rgb_1e-3_best/record_*.npz\", load_obs=False, no_tqdm=True)[5:7]\n",
    "    iou_formatted = ' '.join([f\"{i:10.3f}\" for i in np.nanmean(iou, axis=0)])\n",
    "    print(f\"{map_name:5s} IoU: {np.nanmean(miou):10.3f} {iou_formatted}\")"
   ]
  },
  {
   "cell_type": "code",
   "execution_count": 3,
   "metadata": {},
   "outputs": [
    {
     "name": "stdout",
     "output_type": "stream",
     "text": [
      "                 MIoU Floor/Ceil       Wall       Fogs    Effects      Ammos    Shotgun    Medikit DeadDoomP. DoomPlayer       Self\n",
      "map1  IoU:      0.846      0.994      0.979      0.680      0.353      0.480      0.552      0.676      0.803      0.753      0.957\n",
      "map1w IoU:      0.777      0.983      0.944      0.574      0.271      0.490      0.560      0.654      0.770      0.622      0.955\n",
      "map1a IoU:      0.717      0.982      0.945      0.488      0.227      0.457      0.536      0.612      0.779      0.607      0.954\n",
      "map2s IoU:      0.693      0.982      0.970      0.533      0.174      0.445      0.160      0.416      0.720      0.666      0.967\n",
      "map3  IoU:      0.683      0.981      0.908      0.400      0.176      0.117      0.260      0.583      0.550      0.662      0.952\n"
     ]
    }
   ],
   "source": [
    "summarized_labels_def = list(DEFAULT_LABELS_DEF)[:2] + [\"Fogs\", \"Effects\", \"Ammos\"] + list(DEFAULT_LABELS_DEF)[8:]\n",
    "print(' ' * 11 + f'{\"MIoU\":>10s} ' + ' '.join(f\"{i:>10s}\" if len(i) <= 10 else f\"{i[:9]:s}.\" for i in summarized_labels_def))\n",
    "for map_name in [\"map1\", \"map1w\", \"map1a\", \"map2s\", \"map3\"]:\n",
    "    miou, iou = load_merged_records(f\"captures/rtss_{map_name}/ppo_ss_rgb_1e-3_best/record_*.npz\", load_obs=False, no_tqdm=True)[5:7]\n",
    "    iou = np.nanmean(iou, axis=0).tolist()\n",
    "    iou = iou[:2] + [np.nanmean([i for i in iou[2:4] if i > 0]), np.nanmean([i for i in iou[4:6] if i > 0]), np.nanmean([i for i in iou[6:8] if i > 0])] + iou[8:]\n",
    "    iou_formatted = ' '.join([f\"{i:10.3f}\" for i in iou])\n",
    "    print(f\"{map_name:5s} IoU: {np.nanmean(miou):10.3f} {iou_formatted}\")"
   ]
  },
  {
   "cell_type": "code",
   "execution_count": 4,
   "metadata": {},
   "outputs": [
    {
     "name": "stdout",
     "output_type": "stream",
     "text": [
      "                 MIoU Floor/Ceil       Wall    Effects      Ammos    Shotgun    Medikit DeadDoomP. DoomPlayer       Self\n",
      "map1  IoU:      0.846      0.994      0.979      0.517      0.480      0.552      0.676      0.803      0.753      0.957\n",
      "map1w IoU:      0.777      0.983      0.944      0.423      0.490      0.560      0.654      0.770      0.622      0.955\n",
      "map1a IoU:      0.717      0.982      0.945      0.358      0.457      0.536      0.612      0.779      0.607      0.954\n",
      "map2s IoU:      0.693      0.982      0.970      0.354      0.445      0.160      0.416      0.720      0.666      0.967\n",
      "map3  IoU:      0.683      0.981      0.908      0.288      0.117      0.260      0.583      0.550      0.662      0.952\n"
     ]
    }
   ],
   "source": [
    "summarized_labels_def = list(DEFAULT_LABELS_DEF)[:2] + [\"Effects\", \"Ammos\"] + list(DEFAULT_LABELS_DEF)[8:]\n",
    "print(' ' * 11 + f'{\"MIoU\":>10s} ' + ' '.join(f\"{i:>10s}\" if len(i) <= 10 else f\"{i[:9]:s}.\" for i in summarized_labels_def))\n",
    "for map_name in [\"map1\", \"map1w\", \"map1a\", \"map2s\", \"map3\"]:\n",
    "    miou, iou = load_merged_records(f\"captures/rtss_{map_name}/ppo_ss_rgb_1e-3_best/record_*.npz\", load_obs=False, no_tqdm=True)[5:7]\n",
    "    iou = np.nanmean(iou, axis=0).tolist()\n",
    "    iou = iou[:2] + [np.nanmean([i for i in iou[2:6] if i > 0]), np.nanmean([i for i in iou[6:8] if i > 0])] + iou[8:]\n",
    "    iou_formatted = ' '.join([f\"{i:10.3f}\" for i in iou])\n",
    "    print(f\"{map_name:5s} IoU: {np.nanmean(miou):10.3f} {iou_formatted}\")"
   ]
  }
 ],
 "metadata": {
  "kernelspec": {
   "display_name": "base",
   "language": "python",
   "name": "python3"
  },
  "language_info": {
   "codemirror_mode": {
    "name": "ipython",
    "version": 3
   },
   "file_extension": ".py",
   "mimetype": "text/x-python",
   "name": "python",
   "nbconvert_exporter": "python",
   "pygments_lexer": "ipython3",
   "version": "3.12.3"
  }
 },
 "nbformat": 4,
 "nbformat_minor": 2
}
